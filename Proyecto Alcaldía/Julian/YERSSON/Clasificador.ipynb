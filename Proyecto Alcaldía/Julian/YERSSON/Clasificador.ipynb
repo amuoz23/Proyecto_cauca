{
 "cells": [
  {
   "cell_type": "markdown",
   "id": "a78f3380",
   "metadata": {},
   "source": [
    "# FILTRADO DE DATOS"
   ]
  },
  {
   "cell_type": "code",
   "execution_count": 1,
   "id": "7211957d",
   "metadata": {},
   "outputs": [],
   "source": [
    "import pandas as pd\n",
    "import numpy as np\n",
    "import os"
   ]
  },
  {
   "cell_type": "markdown",
   "id": "2184aad9",
   "metadata": {},
   "source": [
    "Eliminamos Departamentos que no pertenecen al país. Además creamos una copia del Dataftrame"
   ]
  },
  {
   "cell_type": "code",
   "execution_count": 2,
   "id": "f38c906b",
   "metadata": {},
   "outputs": [
    {
     "name": "stderr",
     "output_type": "stream",
     "text": [
      "C:\\Users\\monte\\AppData\\Local\\Temp\\ipykernel_2556\\62448304.py:2: DtypeWarning: Columns (2) have mixed types. Specify dtype option on import or set low_memory=False.\n",
      "  datos = pd.read_csv('Delitos Colombia/Datos2010-2015.csv')\n"
     ]
    }
   ],
   "source": [
    "# Cargar el archivo CSV (ajusta el nombre y ruta del archivo)\n",
    "datos = pd.read_csv('Delitos Colombia/Datos2010-2015.csv')\n",
    "\n",
    "# Convertir de string a datetime con formato original\n",
    "datos['FECHA_HECHO'] = pd.to_datetime(datos['FECHA_HECHO'], format='%d/%m/%Y')\n",
    "\n",
    "# Luego convertirlo al formato YYYY-MM-DD como string\n",
    "datos['FECHA_HECHO'] = datos['FECHA_HECHO'].dt.strftime('%Y-%m-%d')\n",
    "\n",
    "# Connvierte la columna 'FECHA_HECHO' a formato datatime\n",
    "datos['FECHA_HECHO'] = pd.to_datetime(datos['FECHA_HECHO'], format=\"%Y-%m-%d\")\n",
    "\n",
    "# Eliminar departamentos que no pertenecen a Colombia\n",
    "departamentos_invalidos = ['MADRID', 'QUITO', 'NEW YORK', 'NEW JERSEY', 'FLORIDA']\n",
    "datos = datos[~datos['DEPARTAMENTO'].str.upper().isin(departamentos_invalidos)]\n",
    "\n",
    "# Eliminar '(CT)' de los nombres de municipios\n",
    "datos['MUNICIPIO'] = datos['MUNICIPIO'].str.replace(r'\\s*\\(CT\\)', '', regex=True)\n",
    "\n",
    "# Convierte todas las columnas de cadena a mayúsculas\n",
    "str_cols = datos.select_dtypes(include=['object']).columns\n",
    "datos[str_cols] = datos[str_cols].apply(lambda x: x.str.upper())\n",
    "\n",
    "# Selecciona las columnas numericas\n",
    "num_cols = datos.select_dtypes(include=['float64', 'int64']).columns\n",
    "\n",
    "# Convierte las columnas numericas a tipo entero\n",
    "datos[num_cols] = datos[num_cols].astype(int)\n",
    "\n",
    "# Se crea una copia del dataframe para evitar modificar el original\n",
    "copia = datos.copy()\n",
    "\n",
    "# Se corrige el nombre de algunos departamentos\n",
    "copia['DEPARTAMENTO'] = copia['DEPARTAMENTO'].replace({\n",
    "    'VALLE': 'VALLE DEL CAUCA',\n",
    "    'GUAJIRA': 'LA GUAJIRA'\n",
    "})\n",
    "\n",
    "# Eliminar la columna innecesaria 'CODIGO_DANE'\n",
    "if 'CODIGO_DANE' in copia.columns:\n",
    "    copia = copia.drop(columns=['CODIGO_DANE'])\n"
   ]
  },
  {
   "cell_type": "markdown",
   "id": "39029704",
   "metadata": {},
   "source": [
    "Función que convierte nombres de municipios a sus formas oficiales o completas usando un diccionario de correspondencia. Si un nombre está en el diccionario, se reemplaza; si no, se mantiene igual"
   ]
  },
  {
   "cell_type": "code",
   "execution_count": 3,
   "id": "251baf82",
   "metadata": {},
   "outputs": [],
   "source": [
    "def convert_names(original_names):\n",
    "    # Diccionario de correspondencia entre los nombres\n",
    "    dictionary  = {\n",
    "        'CALI': 'SANTIAGO DE CALI',\n",
    "        'LÓPEZ': 'LÓPEZ DE MICAY',\n",
    "        'EL PAUJIL': 'EL PAUJÍL',\n",
    "        'MAGÜI': 'MAGÜÍ',\n",
    "        'CARTAGENA': 'CARTAGENA DE INDIAS',\n",
    "        'SOTARA': 'SOTARÁ PAISPAMBA',\n",
    "        'GACHALA': 'GACHALÁ',\n",
    "        'PURÍSIMA': 'PURÍSIMA DE LA CONCEPCIÓN',\n",
    "        'ANCUYÁ': 'ANCUYA',\n",
    "        'CERRO SAN ANTONIO': 'CERRO DE SAN ANTONIO',\n",
    "        'MARIQUITA': 'SAN SEBASTIÁN DE MARIQUITA',\n",
    "        'SANTAFÉ DE ANTIOQUIA': 'SANTA FÉ DE ANTIOQUIA',\n",
    "        'ITAGUI': 'ITAGÜÍ',\n",
    "        'CACHIRÁ': 'CÁCHIRA',\n",
    "        'ANZA': 'ANZÁ',\n",
    "        'CARMEN DEL DARIEN': 'CARMEN DEL DARIÉN',\n",
    "        'CUASPUD': 'CUASPUD CARLOSAMA',\n",
    "        'COLOSO': 'COLOSÓ',\n",
    "        'SAN ANDRÉS SOTAVENTO': 'SAN ANDRÉS DE SOTAVENTO',\n",
    "        'SAN JUAN DE RÍO SECO': 'SAN JUAN DE RIOSECO',\n",
    "        'GÜICÁN': 'GÜICÁN DE LA SIERRA',\n",
    "        'SABANAS DE SAN ANGEL': 'SABANAS DE SAN ÁNGEL',\n",
    "        'CAQUEZA': 'CÁQUEZA',\n",
    "        'MOMPÓS': 'SANTA CRUZ DE MOMPOX',\n",
    "        'CHAMEZA': 'CHÁMEZA',\n",
    "        'CARURU': 'CARURÚ',\n",
    "        'BELÉN DE LOS ANDAQUIES': 'BELÉN DE LOS ANDAQUÍES',\n",
    "        'CONSACA': 'CONSACÁ',\n",
    "        'CÚCUTA': 'SAN JOSÉ DE CÚCUTA',\n",
    "        'GAMBITA': 'GÁMBITA',\n",
    "        'ENTRERRIOS': 'ENTRERRÍOS',\n",
    "        'TORIBIO': 'TORIBÍO',\n",
    "        'SAN ANDRES DE TUMACO': 'SAN ANDRÉS DE TUMACO',\n",
    "        'RÍO IRO': 'RÍO IRÓ',\n",
    "        'EL PIÑON': 'EL PIÑÓN',\n",
    "        'SONSON': 'SONSÓN',\n",
    "        'MACHETA': 'MACHETÁ',\n",
    "        'CALARCA': 'CALARCÁ',\n",
    "        'TURBANÁ': 'TURBANA',\n",
    "        'UMBITA': 'ÚMBITA',\n",
    "        'GUAYABAL DE SIQUIMA': 'GUAYABAL DE SÍQUIMA',\n",
    "        'GAMEZA': 'GÁMEZA',\n",
    "        'IQUIRA': 'ÍQUIRA',\n",
    "        'PIENDAMÓ': 'PIENDAMÓ - TUNÍA',\n",
    "        'ABREGO': 'ÁBREGO',\n",
    "        'SAN VICENTE': 'SAN VICENTE FERRER',\n",
    "        'VILLA DE SAN DIEGO DE UBATE': 'VILLA DE SAN DIEGO DE UBATÉ',\n",
    "        'DON MATÍAS': 'DONMATÍAS',\n",
    "        'FOMEQUE': 'FÓMEQUE'\n",
    "    }\n",
    "\n",
    "    # Convertir los nombres utilizando el diccionario, o mantener el nombre original si no se encuentra\n",
    "    converted_names = [dictionary.get(name, name) for name in original_names]\n",
    "    \n",
    "    return converted_names\n",
    "\n",
    "\n",
    "# Aplicar la función a la columna 'MUNICIPIO' del DataFrame clean_data\n",
    "copia['MUNICIPIO'] = convert_names (copia['MUNICIPIO'])"
   ]
  },
  {
   "cell_type": "markdown",
   "id": "a7aad789",
   "metadata": {},
   "source": [
    "Separa a BOGOTÁ del conjunto de datos de CUNDINAMARCA y lo convierte en un departamento independiente"
   ]
  },
  {
   "cell_type": "code",
   "execution_count": 4,
   "id": "c2f4c5fb",
   "metadata": {},
   "outputs": [],
   "source": [
    "#Creamos un nuevo datasets, con los datos ajustados a la geolocalizacion\n",
    "es_bogota = copia['MUNICIPIO'] == \"BOGOTÁ D.C.\"\n",
    "bogota_datos = copia[es_bogota].copy()\n",
    "bogota_datos['DEPARTAMENTO'] = \"BOGOTÁ D.C.\"\n",
    "copia.loc[es_bogota, 'DEPARTAMENTO'] = \"BOGOTÁ D.C.\""
   ]
  },
  {
   "cell_type": "markdown",
   "id": "8457703a",
   "metadata": {},
   "source": [
    "Se crea una función con el fin de reemplazar valores en una columna del conjunto de datos cuando su frecuencia es menor a un determinado percentil."
   ]
  },
  {
   "cell_type": "code",
   "execution_count": 5,
   "id": "f5108906",
   "metadata": {},
   "outputs": [],
   "source": [
    "import numpy as np\n",
    "\n",
    "def replace_by_percentile(data, column, prctile, replacement_value):\n",
    "\n",
    "    # Calcular el percentil de las frecuencias\n",
    "    frequencia = data[column].value_counts()\n",
    "    per = np.percentile(frequencia, prctile)\n",
    "    \n",
    "    # Reemplazar los valores en las filas donde la frecuencia es menor al percentil dado\n",
    "    copia.loc[copia[column].map(frequencia) < per, column] = replacement_value\n",
    "    \n",
    "    return copia\n",
    "\n",
    "DelFil = replace_by_percentile(copia, \"DESCRIPCION_CONDUCTA_CAPTURA\", 88, \"OTROS\")"
   ]
  },
  {
   "cell_type": "markdown",
   "id": "e8c31ef0",
   "metadata": {},
   "source": [
    "# ALMACENAMIENTO DE LOS DATOS"
   ]
  },
  {
   "cell_type": "markdown",
   "id": "ba9d79d0",
   "metadata": {},
   "source": [
    "Crea un dataset con los datos limpios a nivel nacional"
   ]
  },
  {
   "cell_type": "code",
   "execution_count": 6,
   "id": "d561fe2c",
   "metadata": {},
   "outputs": [],
   "source": [
    "DelFil.to_csv('Delitos Colombia/Datos Limpios.csv', index=False)"
   ]
  },
  {
   "cell_type": "markdown",
   "id": "9651c314",
   "metadata": {},
   "source": [
    "Crea una nueva carpeta 'Delitos po Departamentos', en la cual se guarda un csv para cada departamento"
   ]
  },
  {
   "cell_type": "code",
   "execution_count": 7,
   "id": "28af70ef",
   "metadata": {},
   "outputs": [],
   "source": [
    "def csv_by_filter(data, filter, folder, out = True):\n",
    "    \n",
    "    # Especifica la carpeta donde guardar los archivos CSV\n",
    "    os.makedirs(folder, exist_ok=True)  # Crea la carpeta si no existe\n",
    "\n",
    "    # Filtra y guarda un CSV para cada departamento\n",
    "    for filter, loop_data in data.groupby(filter):\n",
    "        # Genera el nombre del archivo para cada departamento\n",
    "        output_file = os.path.join(folder, f\"{filter}.csv\")\n",
    "        if (out):\n",
    "            print(f\"Guardando {output_file}... con {len(loop_data)} filas\")\n",
    "        # Guarda el DataFrame filtrado como CSV\n",
    "        loop_data.to_csv(output_file, index=False)\n",
    "    if (out):\n",
    "        print(\"Archivos CSV generados en la carpeta:\", folder)\n",
    "\n",
    "# Filtra y guarda un CSV para cada departamento\n",
    "csv_by_filter(DelFil, \"DEPARTAMENTO\", 'Delitos por Departamento', out = False)"
   ]
  }
 ],
 "metadata": {
  "kernelspec": {
   "display_name": "Python 3",
   "language": "python",
   "name": "python3"
  },
  "language_info": {
   "codemirror_mode": {
    "name": "ipython",
    "version": 3
   },
   "file_extension": ".py",
   "mimetype": "text/x-python",
   "name": "python",
   "nbconvert_exporter": "python",
   "pygments_lexer": "ipython3",
   "version": "3.13.3"
  }
 },
 "nbformat": 4,
 "nbformat_minor": 5
}
