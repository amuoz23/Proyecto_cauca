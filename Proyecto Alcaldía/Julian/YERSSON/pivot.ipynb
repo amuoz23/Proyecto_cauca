{
 "cells": [
  {
   "cell_type": "markdown",
   "id": "a0e96c8d",
   "metadata": {},
   "source": [
    "# PIVOTEO Y DESPIVOTEO DE LA BASE DE DATOS"
   ]
  },
  {
   "cell_type": "code",
   "execution_count": 1,
   "id": "f86abda2",
   "metadata": {},
   "outputs": [],
   "source": [
    "import pandas as pd\n",
    "import numpy as np"
   ]
  },
  {
   "cell_type": "markdown",
   "id": "adb26adb",
   "metadata": {},
   "source": [
    "Copia los datos mensuales y luego crea una nueva columna llamada 'lat_long', que combina las coordenadas de latitud y longitud con un formato específico para cumplir con las reglas de MATLAB. Se reemplazan los puntos por 'p' y los signos negativos por 'n'. Después, pivota el DataFrame para organizar los datos de manera que cada combinación única de mes y coordenadas se convierta en una columna, con los valores de la columna 'CANTIDAD' sumados cuando es necesario y los valores faltantes llenados con ceros."
   ]
  },
  {
   "cell_type": "code",
   "execution_count": 7,
   "id": "f12e83de",
   "metadata": {},
   "outputs": [
    {
     "name": "stderr",
     "output_type": "stream",
     "text": [
      "C:\\Users\\monte\\AppData\\Local\\Temp\\ipykernel_27192\\3615834374.py:13: FutureWarning: 'M' is deprecated and will be removed in a future version, please use 'ME' instead.\n",
      "  .groupby([pd.Grouper(key='FECHA_HECHO', freq='M'), 'DEPARTAMENTO', 'MUNICIPIO', 'LATITUD', 'LONGITUD']) \\\n"
     ]
    }
   ],
   "source": [
    "geodf = pd.read_json(\"Delitos Colombia/DANE/GeoColombia.json\") \\\n",
    "    .rename(columns={\"Departamento\": \"DEPARTAMENTO\", \"Localidad\": \"MUNICIPIO\"}) \\\n",
    "    .drop(columns=[\"Tipo\"])\n",
    "\n",
    "clean_data = pd.read_csv('Delitos por Departamento/Colombia/Narcotrafico_Colombia.csv')\n",
    "\n",
    "monthly_data = pd.merge(clean_data, geodf, on=[\"DEPARTAMENTO\", \"MUNICIPIO\"], how=\"inner\") #\\\n",
    "    #.query(\"DESCRIPCION_CONDUCTA_CAPTURA == 'ARTÍCULO 376. TRÁFICO. FABRICACIÓN O PORTE DE ESTUPEFACIENTES'\")\n",
    "    \n",
    "monthly_data['FECHA_HECHO'] = pd.to_datetime(monthly_data['FECHA_HECHO'])\n",
    "\n",
    "monthly_data = monthly_data \\\n",
    "    .groupby([pd.Grouper(key='FECHA_HECHO', freq='M'), 'DEPARTAMENTO', 'MUNICIPIO', 'LATITUD', 'LONGITUD']) \\\n",
    "    .sum() \\\n",
    "    .reset_index()\n",
    "\n",
    "monthly_data['MES'] = monthly_data['FECHA_HECHO'].dt.to_period('M')\n",
    "monthly_data = monthly_data[['MES', 'LATITUD', 'LONGITUD', 'CANTIDAD']]\n",
    "monthly_data.to_csv('JULIAN.csv', index=False)\n"
   ]
  },
  {
   "cell_type": "code",
   "execution_count": 8,
   "id": "46bbf675",
   "metadata": {},
   "outputs": [
    {
     "name": "stdout",
     "output_type": "stream",
     "text": [
      "           MES   LATITUD   LONGITUD  CANTIDAD\n",
      "0      2010-01 -3.530059 -70.045137        11\n",
      "1      2010-01 -3.631323 -70.471990         4\n",
      "2      2010-01  6.365534 -75.090597         1\n",
      "3      2010-01  6.032922 -75.708003         4\n",
      "4      2010-01  6.977789 -74.981239         4\n",
      "...        ...       ...        ...       ...\n",
      "30809  2015-12  4.028408 -76.032504        23\n",
      "30810  2015-12  3.904130 -76.390804         3\n",
      "30811  2015-12  3.595914 -76.510988         1\n",
      "30812  2015-12  4.353599 -76.050653         3\n",
      "30813  2015-12  5.836530 -68.141222         2\n",
      "\n",
      "[30814 rows x 4 columns]\n"
     ]
    }
   ],
   "source": [
    "print(monthly_data)"
   ]
  },
  {
   "cell_type": "code",
   "execution_count": null,
   "id": "f9507ea3",
   "metadata": {},
   "outputs": [],
   "source": [
    "# Copiar los datos mensuales\n",
    "df = monthly_data.copy()\n",
    "\n",
    "# Crear la columna 'lat_long' con un prefijo y reemplazar el separador para cumplir con las reglas de MATLAB\n",
    "df['lat_long'] = (\n",
    "    'loc_' +\n",
    "    df['LATITUD'].astype(str).str.replace('.', 'p').str.replace('-', 'n') + # Reemplaza '.' con 'p' y '-' con 'n'\n",
    "    'x' +\n",
    "    df['LONGITUD'].astype(str).str.replace('.', 'p').str.replace('-', 'n')\n",
    ")\n",
    "\n",
    "# Pivotar el DataFrame\n",
    "df_pivot = df.pivot_table(index='MES', columns='lat_long', values='CANTIDAD ', aggfunc='sum', fill_value=0)\n",
    "df_pivot.to_csv(\"resultado_pivot.csv\")"
   ]
  },
  {
   "cell_type": "markdown",
   "id": "a7976d0e",
   "metadata": {},
   "source": [
    "Carga un archivo CSV con los datos previamente pivotados y luego deshace el pivot (convierte las columnas 'lat_long' de nuevo en filas). Después, separa la columna 'lat_long' en dos nuevas columnas: 'LATITUD' y 'LONGITUD'. Los valores de estas columnas se ajustan reemplazando caracteres que fueron usados para formatear las coordenadas (como 'n' por '-' y 'p' por '.') para restaurar los valores numéricos originales. También elimina el prefijo 'loc_' y convierte las columnas 'LATITUD' y 'LONGITUD' a tipo numérico. Finalmente, elimina la columna 'lat_long' que ya no es necesaria."
   ]
  },
  {
   "cell_type": "code",
   "execution_count": null,
   "id": "80f99d7d",
   "metadata": {},
   "outputs": [],
   "source": [
    "# Despivotar el DataFrame (convertir las columnas 'lat_long' en filas)\n",
    "df_pivot = pd.read_csv('resultado_pivot.csv')\n",
    "# Despivotar el DataFrame\n",
    "df_unpivoted = pd.melt(df_pivot, id_vars=['MES'], var_name='lat_long', value_name='CANTIDAD')\n",
    "\n",
    "# Separar la columna 'lat_long' en 'LATITUD' y 'LONGITUD'\n",
    "df_unpivoted[['LATITUD', 'LONGITUD']] = df_unpivoted['lat_long'].str.split('x', expand=True)\n",
    "\n",
    "# Reemplazar 'n' con '-' y 'p' con '.' para recuperar los valores numéricos originales\n",
    "df_unpivoted['LATITUD'] = df_unpivoted['LATITUD'].str.replace('n', '-', regex=False).str.replace('p', '.', regex=False)\n",
    "df_unpivoted['LONGITUD'] = df_unpivoted['LONGITUD'].str.replace('n', '-', regex=False).str.replace('p', '.', regex=False)\n",
    "\n",
    "# Eliminar el prefijo 'loc_' de las coordenadas\n",
    "df_unpivoted['LATITUD'] = df_unpivoted['LATITUD'].str.replace('loc_', '', regex=False)\n",
    "df_unpivoted['LONGITUD'] = df_unpivoted['LONGITUD'].str.replace('loc_', '', regex=False)\n",
    "\n",
    "# Convertir las columnas LATITUD y LONGITUD a tipo numérico\n",
    "df_unpivoted['LATITUD'] = pd.to_numeric(df_unpivoted['LATITUD'])\n",
    "df_unpivoted['LONGITUD'] = pd.to_numeric(df_unpivoted['LONGITUD'])\n",
    "\n",
    "# Eliminar la columna 'lat_long' ya que ahora tenemos LATITUD y LONGITUD\n",
    "df_unpivoted.drop(columns=['lat_long'], inplace=True)\n",
    "df_unpivoted['CANTIDAD'] = df_unpivoted['CANTIDAD'].round(0).astype(int)\n",
    "df_unpivoted[df_unpivoted[\"CANTIDAD\"] > 0].to_csv('resultado_unpivot_rounded.csv', index=False)"
   ]
  }
 ],
 "metadata": {
  "kernelspec": {
   "display_name": "Python 3",
   "language": "python",
   "name": "python3"
  },
  "language_info": {
   "codemirror_mode": {
    "name": "ipython",
    "version": 3
   },
   "file_extension": ".py",
   "mimetype": "text/x-python",
   "name": "python",
   "nbconvert_exporter": "python",
   "pygments_lexer": "ipython3",
   "version": "3.13.3"
  }
 },
 "nbformat": 4,
 "nbformat_minor": 5
}
